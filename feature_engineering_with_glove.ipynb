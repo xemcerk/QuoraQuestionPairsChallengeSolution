{
 "cells": [
  {
   "cell_type": "code",
   "execution_count": 1,
   "metadata": {
    "_cell_guid": "b1076dfc-b9ad-4769-8c92-a6c4dae69d19",
    "_uuid": "8f2839f25d086af736a60e9eeb907d3b93b6e0e5"
   },
   "outputs": [],
   "source": [
    "import numpy as np\n",
    "import pandas as pd\n",
    "import os\n",
    "import warnings\n",
    "warnings.filterwarnings(\"ignore\")\n",
    "from nltk import word_tokenize"
   ]
  },
  {
   "cell_type": "markdown",
   "metadata": {},
   "source": [
    "读入词向量"
   ]
  },
  {
   "cell_type": "code",
   "execution_count": 2,
   "metadata": {},
   "outputs": [
    {
     "name": "stdout",
     "output_type": "stream",
     "text": [
      "Found 2195893 word vectors of glove.\n"
     ]
    }
   ],
   "source": [
    "f = open(\"../input/glove.840B.300d.txt\", encoding=\"utf-8\")\n",
    "embeddings_index = {}\n",
    "for line in f:\n",
    "    values = line.split()\n",
    "    word = \"\".join(values[:-300])   \n",
    "    coefs = np.asarray(values[-300:], dtype=\"float32\")\n",
    "    embeddings_index[word] = coefs\n",
    "f.close()\n",
    "print(\"Found {} word vectors of glove.\".format(len(embeddings_index)))"
   ]
  },
  {
   "cell_type": "markdown",
   "metadata": {},
   "source": [
    "### 训练集"
   ]
  },
  {
   "cell_type": "code",
   "execution_count": 3,
   "metadata": {},
   "outputs": [],
   "source": [
    "train_orig = pd.read_csv(\"train_orig.csv\")\n",
    "train_stop = pd.read_csv(\"train_stop.csv\")\n",
    "\n",
    "train_orig.fillna(\"\", inplace = True)\n",
    "train_stop.fillna(\"\", inplace = True)\n",
    "\n",
    "train = pd.read_csv(\"train.csv\")\n",
    "trainlabel = pd.read_csv(\"trainlabel.csv\")"
   ]
  },
  {
   "cell_type": "code",
   "execution_count": 4,
   "metadata": {},
   "outputs": [],
   "source": [
    "def get_word_vector(row):\n",
    "    wordlist1 = word_tokenize(row[\"question1\"])\n",
    "    wordlist2 = word_tokenize(row[\"question2\"])\n",
    "    \n",
    "    rarity = 0  # 用于标记问题对是否含有非常罕见的词的特征\n",
    "    \n",
    "    embeddings_list1 = []\n",
    "    for string in wordlist1:\n",
    "        try:\n",
    "            embeddings_list1.append(embeddings_index[string])\n",
    "        except KeyError:\n",
    "            if string in wordlist2:  # 如果两个问题包含这个词，令rarity=1，否则不进行处理\n",
    "                rarity = 1\n",
    "            else:\n",
    "                pass          \n",
    "    \n",
    "    embeddings_list2 = []\n",
    "    for string in wordlist2:\n",
    "        try:\n",
    "            embeddings_list2.append(embeddings_index[string])\n",
    "        except KeyError:\n",
    "            if string in wordlist1:\n",
    "                rarity = 1\n",
    "            else:\n",
    "                pass  \n",
    "    \n",
    "    return pd.Series([embeddings_list1, embeddings_list2, rarity])"
   ]
  },
  {
   "cell_type": "markdown",
   "metadata": {},
   "source": [
    "处理train_orig"
   ]
  },
  {
   "cell_type": "code",
   "execution_count": 5,
   "metadata": {},
   "outputs": [],
   "source": [
    "vector_orig = train_orig.apply(get_word_vector, axis = 1)\n",
    "vector_orig.columns = [\"question1\", \"question2\", \"rarity\"]"
   ]
  },
  {
   "cell_type": "code",
   "execution_count": 6,
   "metadata": {},
   "outputs": [
    {
     "data": {
      "text/plain": [
       "300"
      ]
     },
     "execution_count": 6,
     "metadata": {},
     "output_type": "execute_result"
    }
   ],
   "source": [
    "len(np.mean(np.array(vector_orig[\"question1\"][1]),axis=0))"
   ]
  },
  {
   "cell_type": "markdown",
   "metadata": {},
   "source": [
    "构造特征"
   ]
  },
  {
   "cell_type": "code",
   "execution_count": 7,
   "metadata": {},
   "outputs": [],
   "source": [
    "def diff_word_vector(row):\n",
    "    mean1 = np.mean(np.array(row[\"question1\"]), axis = 0)\n",
    "    mean2 = np.mean(np.array(row[\"question2\"]), axis = 0)\n",
    "    diff = mean1 - mean2\n",
    "    L1 = np.sum(np.abs(diff))  # np.linalg.norm不能对空的数组计算1-范数和2-范数，所以只能手动计算\n",
    "    L2 = np.sum(diff ** 2) ** 0.5\n",
    "    norm1 = np.sum(mean1 ** 2) ** 0.5\n",
    "    norm2 = np.sum(mean2 ** 2) ** 0.5\n",
    "    cos = np.sum(mean1 * mean2) / (norm1 * norm2)\n",
    "    return pd.Series([L1, L2, cos])"
   ]
  },
  {
   "cell_type": "code",
   "execution_count": 8,
   "metadata": {},
   "outputs": [],
   "source": [
    "diff_vector_orig = vector_orig.apply(diff_word_vector, axis = 1)\n",
    "features_vector_orig = pd.concat([diff_vector_orig, vector_orig[\"rarity\"]], axis = 1)\n",
    "features_vector_orig.columns = [\"diff_word_vector_L1_orig\", \"diff_word_vector_L2_orig\", \n",
    "                                \"word_vector_cos_orig\", \"varity\"]\n",
    "train = pd.concat([train, features_vector_orig], axis = 1)\n",
    "\n",
    "del vector_orig, diff_vector_orig, features_vector_orig"
   ]
  },
  {
   "cell_type": "markdown",
   "metadata": {},
   "source": [
    "处理train_stop"
   ]
  },
  {
   "cell_type": "code",
   "execution_count": 9,
   "metadata": {},
   "outputs": [],
   "source": [
    "vector_stop = train_stop.apply(get_word_vector, axis = 1)\n",
    "vector_stop.columns = [\"question1\", \"question2\", \"rarity\"]\n",
    "\n",
    "diff_vector_stop = vector_stop.apply(diff_word_vector, axis = 1)\n",
    "diff_vector_stop.columns = [\"diff_word_vector_L1_stop\", \"diff_word_vector_L2_stop\", \n",
    "                            \"word_vector_cos_stop\"]\n",
    "train = pd.concat([train, diff_vector_stop], axis = 1)\n",
    "\n",
    "del vector_stop, diff_vector_stop"
   ]
  },
  {
   "cell_type": "code",
   "execution_count": 10,
   "metadata": {},
   "outputs": [],
   "source": [
    "train.to_csv(\"train.csv\", index = False)\n",
    "trainlabel.to_csv(\"trainlabel.csv\", index = False)\n",
    "\n",
    "del train, trainlabel, train_orig, train_stop"
   ]
  },
  {
   "cell_type": "markdown",
   "metadata": {},
   "source": [
    "### 测试集"
   ]
  },
  {
   "cell_type": "code",
   "execution_count": 11,
   "metadata": {},
   "outputs": [],
   "source": [
    "test_orig = pd.read_csv(\"test_orig.csv\")\n",
    "test_orig.fillna(\"\", inplace = True)\n",
    "\n",
    "vector_orig = test_orig.apply(get_word_vector, axis = 1)\n",
    "vector_orig.columns = [\"question1\", \"question2\", \"rarity\"]\n",
    "del test_orig\n",
    "\n",
    "diff_vector_orig = vector_orig.apply(diff_word_vector, axis = 1)\n",
    "features_vector_orig = pd.concat([diff_vector_orig, vector_orig[\"rarity\"]], axis = 1)\n",
    "features_vector_orig.columns = [\"diff_word_vector_L1_orig\", \"diff_word_vector_L2_orig\", \n",
    "                                \"word_vector_cos_orig\", \"varity\"]\n",
    "del vector_orig, diff_vector_orig"
   ]
  },
  {
   "cell_type": "code",
   "execution_count": 12,
   "metadata": {},
   "outputs": [],
   "source": [
    "test_stop = pd.read_csv(\"test_stop.csv\")\n",
    "test_stop.fillna(\"\", inplace = True)\n",
    "\n",
    "vector_stop = test_stop.apply(get_word_vector, axis = 1)\n",
    "vector_stop.columns = [\"question1\", \"question2\", \"rarity\"]\n",
    "del test_stop, embeddings_index\n",
    "\n",
    "diff_vector_stop = vector_stop.apply(diff_word_vector, axis = 1)\n",
    "diff_vector_stop.columns = [\"diff_word_vector_L1_stop\", \"diff_word_vector_L2_stop\", \n",
    "                            \"word_vector_cos_stop\"]\n",
    "del vector_stop\n",
    "\n",
    "test = pd.read_csv(\"test.csv\")\n",
    "test = pd.concat([test, features_vector_orig, diff_vector_stop], axis = 1)\n",
    "del features_vector_orig, diff_vector_stop"
   ]
  },
  {
   "cell_type": "code",
   "execution_count": 13,
   "metadata": {},
   "outputs": [],
   "source": [
    "test.to_csv(\"test.csv\", index = False)"
   ]
  }
 ],
 "metadata": {
  "kernelspec": {
   "display_name": "Python 3",
   "language": "python",
   "name": "python3"
  },
  "language_info": {
   "codemirror_mode": {
    "name": "ipython",
    "version": 3
   },
   "file_extension": ".py",
   "mimetype": "text/x-python",
   "name": "python",
   "nbconvert_exporter": "python",
   "pygments_lexer": "ipython3",
   "version": "3.7.1"
  }
 },
 "nbformat": 4,
 "nbformat_minor": 1
}
